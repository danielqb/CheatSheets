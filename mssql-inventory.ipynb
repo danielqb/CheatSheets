{
    "cells": [
        {
            "cell_type": "markdown",
            "source": [
                "Inventory of SQL permisions by User "
            ],
            "metadata": {}
        },
        {
            "cell_type": "markdown",
            "source": [
                "# SQL Inventory"
            ],
            "metadata": {}
        },
        {
            "cell_type": "code",
            "execution_count": null,
            "source": [
                "import pyodbc\r\n",
                "import yaml\r\n",
                "driver= '{ODBC Driver 17 for SQL Server}'\r\n",
                "try:\r\n",
                "    config = yaml.safe_load(open(\"config.yml\"))\r\n",
                "except yaml.YAMLError as error:\r\n",
                "    print(error)\r\n",
                "username = config[\"username\"]\r\n",
                "password = config[\"password\"]"
            ],
            "outputs": [],
            "metadata": {}
        },
        {
            "cell_type": "code",
            "execution_count": null,
            "source": [
                "sqlservers = [\r\n",
                "    'server1',\r\n",
                "    'server2',\r\n",
                "    'server3'\r\n",
                "    ]\r\n",
                "sqlservers"
            ],
            "outputs": [],
            "metadata": {}
        },
        {
            "cell_type": "markdown",
            "source": [
                "## List all roles"
            ],
            "metadata": {}
        },
        {
            "cell_type": "code",
            "execution_count": null,
            "source": [
                "for sqlserver in sqlservers:\r\n",
                "    server = sqlserver + '.database.windows.net'\r\n",
                "\r\n",
                "    cnxn = pyodbc.connect('DRIVER='+driver+';SERVER=tcp:'+server+';PORT=1433;DATABASE=master;UID='+username+';PWD='+ password+';Authentication={ActiveDirectoryPassword}')\r\n",
                "\r\n",
                "    cursor = cnxn.cursor()\r\n",
                "    cursor.execute(\"SELECT name FROM master.sys.databases\")\r\n",
                "    dbs = cursor.fetchall()\r\n",
                "    for db in dbs:\r\n",
                "        cnxn = pyodbc.connect('DRIVER='+driver+';SERVER=tcp:'+server+';PORT=1433;DATABASE='+str(db[0])+';UID='+username+';PWD='+ password+';Authentication={ActiveDirectoryPassword}')\r\n",
                "        cursor = cnxn.cursor()\r\n",
                "\r\n",
                "        cursor.execute(\"select A.name, A.type_desc, A.principal_id, B.member_principal_id, C.uid, C.name FROM sys.database_principals AS A LEFT JOIN sys.database_role_members AS B ON A.principal_id = B.member_principal_id LEFT JOIN sysusers AS C ON B.role_principal_id = C.uid ORDER BY type_desc,A.name\")\r\n",
                "        rows = cursor.fetchall()\r\n",
                "        for row in rows:\r\n",
                "            print(sqlserver + \",\" + str(db[0]) + \",\" + str(row[0]) + \",\" + str(row[1]) + \",\" + str(row[5]))\r\n",
                "\r\n",
                "        cnxn.close()"
            ],
            "outputs": [],
            "metadata": {}
        },
        {
            "cell_type": "markdown",
            "source": [
                "## List all granular permisions"
            ],
            "metadata": {}
        },
        {
            "cell_type": "code",
            "execution_count": null,
            "source": [
                "for sqlserver in sqlservers:\r\n",
                "    server = sqlserver + '.database.windows.net'\r\n",
                "\r\n",
                "    cnxn = pyodbc.connect('DRIVER='+driver+';SERVER=tcp:'+server+';PORT=1433;DATABASE=master;UID='+username+';PWD='+ password+';Authentication={ActiveDirectoryPassword}')\r\n",
                "\r\n",
                "    cursor = cnxn.cursor()\r\n",
                "    cursor.execute(\"SELECT name FROM master.sys.databases\")\r\n",
                "    dbs = cursor.fetchall()\r\n",
                "    for db in dbs:\r\n",
                "        cnxn = pyodbc.connect('DRIVER='+driver+';SERVER=tcp:'+server+';PORT=1433;DATABASE='+str(db[0])+';UID='+username+';PWD='+ password+';Authentication={ActiveDirectoryPassword}')\r\n",
                "        cursor = cnxn.cursor()\r\n",
                "\r\n",
                "        cursor.execute(\"SELECT DB_NAME() AS DatabaseName, DatabasePrincipals.name AS PrincipalName, DatabasePrincipals.type_desc AS PrincipalType, DatabasePrincipals2.name AS GrantedBy, DatabasePermissions.permission_name AS Permission, DatabasePermissions.state_desc AS StateDescription, SCHEMA_NAME(SO.schema_id) AS SchemaName,SO.Name AS ObjectName, SO.type_desc AS ObjectType FROM sys.database_permissions DatabasePermissions LEFT JOIN sys.objects SO ON DatabasePermissions.major_id = so.object_id LEFT JOIN sys.database_principals DatabasePrincipals ON DatabasePermissions.grantee_principal_id = DatabasePrincipals.principal_id LEFT JOIN sys.database_principals DatabasePrincipals2 ON DatabasePermissions.grantor_principal_id = DatabasePrincipals2.principal_id\")\r\n",
                "        rows = cursor.fetchall()\r\n",
                "        for row in rows:\r\n",
                "            print(sqlserver + \",\" + str(db[0]) + \",\" + str(row[0]) + \",\" + str(row[1]) + \",\" + str(row[2]) + \",\" + str(row[3]) + \",\" + str(row[4]) + \",\" + str(row[5]) + \",\" + str(row[6]) + \",\" + str(row[7]) + \",\" + str(row[8]))\r\n",
                "        cnxn.close()"
            ],
            "outputs": [],
            "metadata": {}
        },
        {
            "cell_type": "markdown",
            "source": [
                "# ASSIGN PERMISIONS"
            ],
            "metadata": {}
        },
        {
            "cell_type": "code",
            "execution_count": null,
            "source": [
                "client = 'IT-GLB-EYMP_OPS_L3_MSP01-Team'\r\n",
                "\r\n",
                "for sqlserver in sqlservers:\r\n",
                "    server = sqlserver + '.database.windows.net'\r\n",
                "\r\n",
                "    cnxn = pyodbc.connect('DRIVER='+driver+';SERVER=tcp:'+server+';PORT=1433;DATABASE=master;UID='+username+';PWD='+ password+';Authentication={ActiveDirectoryPassword};Connection Timeout=360;autocommit=True')\r\n",
                "\r\n",
                "    cursor = cnxn.cursor()\r\n",
                "    cursor.execute(\"SELECT name FROM master.sys.databases\")\r\n",
                "    dbs = cursor.fetchall()\r\n",
                "    \r\n",
                "    try:\r\n",
                "        cursor.execute(\"CREATE USER [\" + client + \"] FROM EXTERNAL PROVIDER WITH DEFAULT_SCHEMA = [dbo]\")\r\n",
                "        cursor.commit()\r\n",
                "    except pyodbc.Error as ex:\r\n",
                "        if ex.args[0] != '42000':\r\n",
                "            print(ex.args)\r\n",
                "\r\n",
                "    for db in dbs:\r\n",
                "        if str(db[0]) != 'master':\r\n",
                "            cnxn = pyodbc.connect('DRIVER='+driver+';SERVER=tcp:'+server+';PORT=1433;DATABASE='+str(db[0])+';UID='+username+';PWD='+ password+';Authentication={ActiveDirectoryPassword};Connection Timeout=360')\r\n",
                "            cursor = cnxn.cursor()\r\n",
                "\r\n",
                "            try:\r\n",
                "                cursor.execute(\"CREATE USER [\" + client + \"] FROM EXTERNAL PROVIDER\")\r\n",
                "            except pyodbc.Error as ex:\r\n",
                "                if ex.args[0] != '42000':\r\n",
                "                    print(ex.args)\r\n",
                "        \r\n",
                "            cursor.execute('GRANT EXEC TO [' + client + ']')\r\n",
                "            cursor.execute(\"EXEC sp_addrolemember N'db_datareader', [\" + client + \"]; EXEC sp_addrolemember N'db_datawriter', [\" + client + \"]; EXEC sp_addrolemember N'db_ddladmin', [\" + client + \"];\")\r\n",
                "            cursor.commit()\r\n",
                "\r\n",
                "        cursor.execute(\"select A.name, A.type_desc, A.principal_id, B.member_principal_id, C.uid, C.name FROM sys.database_principals AS A LEFT JOIN sys.database_role_members AS B ON A.principal_id = B.member_principal_id LEFT JOIN sysusers AS C ON B.role_principal_id = C.uid WHERE A.name = '\" + client + \"' ORDER BY type_desc,A.name\")\r\n",
                "        rows = cursor.fetchall()\r\n",
                "        for row in rows:\r\n",
                "            print(\"Role,\" + sqlserver + \",\" + str(db[0]) + \",\" + str(row[0]) + \",\" + str(row[1]) + \",\" + str(row[5]))\r\n",
                "\r\n",
                "        cursor.execute(\"SELECT DB_NAME() AS DatabaseName, DatabasePrincipals.name AS PrincipalName, DatabasePrincipals.type_desc AS PrincipalType, DatabasePrincipals2.name AS GrantedBy, DatabasePermissions.permission_name AS Permission, DatabasePermissions.state_desc AS StateDescription, SCHEMA_NAME(SO.schema_id) AS SchemaName,SO.Name AS ObjectName, SO.type_desc AS ObjectType FROM sys.database_permissions DatabasePermissions LEFT JOIN sys.objects SO ON DatabasePermissions.major_id = so.object_id LEFT JOIN sys.database_principals DatabasePrincipals ON DatabasePermissions.grantee_principal_id = DatabasePrincipals.principal_id LEFT JOIN sys.database_principals DatabasePrincipals2 ON DatabasePermissions.grantor_principal_id = DatabasePrincipals2.principal_id Where DatabasePrincipals.name='\" + client + \"'\")\r\n",
                "        rows = cursor.fetchall()\r\n",
                "        for row in rows:\r\n",
                "            print(\"Permission,\" + sqlserver + \",\" + str(db[0]) + \",\" + str(row[0]) + \",\" + str(row[1]) + \",\" + str(row[2]) + \",\" + str(row[3]) + \",\" + str(row[4]) + \",\" + str(row[5]) + \",\" + str(row[6]) + \",\" + str(row[7]) + \",\" + str(row[8]))\r\n",
                "        cnxn.close()"
            ],
            "outputs": [],
            "metadata": {}
        }
    ],
    "metadata": {
        "orig_nbformat": 4,
        "language_info": {
            "name": "python"
        }
    },
    "nbformat": 4,
    "nbformat_minor": 2
}